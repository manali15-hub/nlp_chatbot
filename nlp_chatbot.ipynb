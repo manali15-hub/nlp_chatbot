{
  "nbformat": 4,
  "nbformat_minor": 0,
  "metadata": {
    "colab": {
      "provenance": []
    },
    "kernelspec": {
      "name": "python3",
      "display_name": "Python 3"
    },
    "language_info": {
      "name": "python"
    }
  },
  "cells": [
    {
      "cell_type": "code",
      "execution_count": 12,
      "metadata": {
        "colab": {
          "base_uri": "https://localhost:8080/"
        },
        "id": "Hex7_vaU4CL5",
        "outputId": "5348ca4d-7959-4250-d7e7-3031f9636b76"
      },
      "outputs": [
        {
          "output_type": "stream",
          "name": "stdout",
          "text": [
            "Requirement already satisfied: nltk in /usr/local/lib/python3.11/dist-packages (3.9.1)\n",
            "Requirement already satisfied: click in /usr/local/lib/python3.11/dist-packages (from nltk) (8.2.1)\n",
            "Requirement already satisfied: joblib in /usr/local/lib/python3.11/dist-packages (from nltk) (1.5.1)\n",
            "Requirement already satisfied: regex>=2021.8.3 in /usr/local/lib/python3.11/dist-packages (from nltk) (2024.11.6)\n",
            "Requirement already satisfied: tqdm in /usr/local/lib/python3.11/dist-packages (from nltk) (4.67.1)\n"
          ]
        }
      ],
      "source": [
        "!pip install nltk"
      ]
    },
    {
      "cell_type": "code",
      "source": [
        "import nltk\n",
        "nltk.download('punkt_tab')       # Main tokenizer\n",
        "nltk.download('omw-1.4')     # Optional: for better language support\n"
      ],
      "metadata": {
        "colab": {
          "base_uri": "https://localhost:8080/"
        },
        "id": "25gL-B5y4Kqn",
        "outputId": "d8bc5072-202c-48d8-9219-888f5eed608c"
      },
      "execution_count": 13,
      "outputs": [
        {
          "output_type": "stream",
          "name": "stderr",
          "text": [
            "[nltk_data] Downloading package punkt_tab to /root/nltk_data...\n",
            "[nltk_data]   Package punkt_tab is already up-to-date!\n",
            "[nltk_data] Downloading package omw-1.4 to /root/nltk_data...\n",
            "[nltk_data]   Package omw-1.4 is already up-to-date!\n"
          ]
        },
        {
          "output_type": "execute_result",
          "data": {
            "text/plain": [
              "True"
            ]
          },
          "metadata": {},
          "execution_count": 13
        }
      ]
    },
    {
      "cell_type": "code",
      "source": [
        "import json\n",
        "\n",
        "intents = {\n",
        "    \"intents\": [\n",
        "        {\"tag\": \"greeting\", \"patterns\": [\"Hi\", \"Hello\", \"Hey\"], \"responses\": [\"Hello!\", \"Hi there!\", \"Greetings!\"]},\n",
        "        {\"tag\": \"goodbye\", \"patterns\": [\"Bye\", \"See you\", \"Goodbye\"], \"responses\": [\"Bye!\", \"See you later!\", \"Goodbye!\"]},\n",
        "        {\"tag\": \"thanks\", \"patterns\": [\"Thanks\", \"Thank you\"], \"responses\": [\"You're welcome!\", \"No problem!\"]},\n",
        "        {\"tag\": \"name\", \"patterns\": [\"What is your name?\", \"Who are you?\"], \"responses\": [\"I am your chatbot.\", \"My name is ChatBot.\"]},\n",
        "        {\"tag\": \"help\", \"patterns\": [\"Can you help me?\", \"I need support\"], \"responses\": [\"Sure, I'm here to help!\", \"What can I assist you with?\"]}\n",
        "    ]\n",
        "}\n",
        "\n",
        "# Save to a file\n",
        "with open(\"intents.json\", \"w\") as file:\n",
        "    json.dump(intents, file)\n"
      ],
      "metadata": {
        "id": "I0sJmvu04S5c"
      },
      "execution_count": 14,
      "outputs": []
    },
    {
      "cell_type": "code",
      "source": [
        "import random\n",
        "import nltk\n",
        "from nltk.stem.porter import PorterStemmer\n",
        "import numpy as np\n",
        "\n",
        "# Load intents\n",
        "with open(\"intents.json\") as file:\n",
        "    data = json.load(file)\n",
        "\n",
        "stemmer = PorterStemmer()\n",
        "\n",
        "# Preprocessing\n",
        "def tokenize(sentence):\n",
        "    return nltk.word_tokenize(sentence)\n",
        "\n",
        "def stem(word):\n",
        "    return stemmer.stem(word.lower())\n",
        "\n",
        "def bag_of_words(sentence, words):\n",
        "    sentence_words = [stem(w) for w in tokenize(sentence)]\n",
        "    bag = [1 if w in sentence_words else 0 for w in words]\n",
        "    return np.array(bag)\n"
      ],
      "metadata": {
        "id": "sI5GgqGU4jjO"
      },
      "execution_count": 15,
      "outputs": []
    },
    {
      "cell_type": "code",
      "source": [
        "all_words = []\n",
        "tags = []\n",
        "xy = []\n",
        "\n",
        "for intent in data[\"intents\"]:\n",
        "    tag = intent[\"tag\"]\n",
        "    tags.append(tag)\n",
        "    for pattern in intent[\"patterns\"]:\n",
        "        w = tokenize(pattern)\n",
        "        all_words.extend(w)\n",
        "        xy.append((w, tag))\n",
        "\n",
        "ignore_words = ['?', '.', '!']\n",
        "all_words = [stem(w) for w in all_words if w not in ignore_words]\n",
        "all_words = sorted(set(all_words))\n",
        "tags = sorted(set(tags))\n"
      ],
      "metadata": {
        "id": "36Ar149Y4m68"
      },
      "execution_count": 16,
      "outputs": []
    },
    {
      "cell_type": "code",
      "source": [
        "def chat():\n",
        "    print(\"Start chatting! (type 'quit' to stop)\\n\")\n",
        "    while True:\n",
        "        inp = input(\"You: \")\n",
        "        if inp.lower() == \"quit\":\n",
        "            print(\"Chatbot: Goodbye!\")\n",
        "            break\n",
        "\n",
        "        bow = bag_of_words(inp, all_words)\n",
        "        scores = []\n",
        "        for intent in data[\"intents\"]:\n",
        "            pattern_words = []\n",
        "            for pattern in intent[\"patterns\"]:\n",
        "                pattern_words.extend(tokenize(pattern))\n",
        "            pattern_words = [stem(w) for w in pattern_words]\n",
        "            match_score = len(set(pattern_words) & set(tokenize(inp)))\n",
        "            scores.append(match_score)\n",
        "\n",
        "        max_score = max(scores)\n",
        "        if max_score == 0:\n",
        "            print(\"Chatbot: I don't understand. Try again.\")\n",
        "        else:\n",
        "            best_tag = data[\"intents\"][scores.index(max_score)][\"tag\"]\n",
        "            for intent in data[\"intents\"]:\n",
        "                if intent[\"tag\"] == best_tag:\n",
        "                    print(\"Chatbot:\", random.choice(intent[\"responses\"]))\n"
      ],
      "metadata": {
        "id": "JY5ve8Xr5xa8"
      },
      "execution_count": 17,
      "outputs": []
    },
    {
      "cell_type": "code",
      "source": [
        "chat()"
      ],
      "metadata": {
        "colab": {
          "base_uri": "https://localhost:8080/"
        },
        "id": "KzVtaqtG6Jew",
        "outputId": "cb7feb8c-b866-40d7-eafa-024d150e0d5e"
      },
      "execution_count": 19,
      "outputs": [
        {
          "output_type": "stream",
          "name": "stdout",
          "text": [
            "Start chatting! (type 'quit' to stop)\n",
            "\n",
            "You: quit\n",
            "Chatbot: Goodbye!\n"
          ]
        }
      ]
    }
  ]
}